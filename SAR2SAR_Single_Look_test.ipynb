{
 "cells": [
  {
   "cell_type": "markdown",
   "metadata": {
    "colab_type": "text",
    "id": "view-in-github"
   },
   "source": [
    "**[Download the notebook](https://gitlab.telecom-paris.fr/ring/sar2sar/-/raw/master/SAR2SAR_Single_Look_test.ipynb?inline=false) and then import it under Google Colab**\n",
    "\n",
    "<a href=\"https://colab.research.google.com/\" target=\"_parent\"><img src=\"https://colab.research.google.com/assets/colab-badge.svg\" alt=\"Open In Colab\"/></a>"
   ]
  },
  {
   "cell_type": "markdown",
   "metadata": {
    "colab_type": "text",
    "id": "a94OoNwSB4K8"
   },
   "source": [
    "# SAR2SAR: A Semi-Supervised Despeckling Algorithm for SAR Images\n",
    "## Emanuele Dalsasso, Loïc Denis, Florence Tupin\n",
    "\n",
    "The code is made available under the **GNU General Public License v3.0**: Copyright 2020, Emanuele Dalsasso, Loïc Denis, Florence Tupin, of LTCI research lab - Télécom ParisTech, an Institut Mines Télécom school.\n",
    "All rights reserved.\n",
    "\n",
    "Please note that the training set is only composed of **Sentinel-1** SAR images, thus this testing code is specific to this data."
   ]
  },
  {
   "cell_type": "markdown",
   "metadata": {
    "pycharm": {
     "name": "#%% md\n"
    }
   },
   "source": [
    "## Resources\n",
    "- [Paper (ArXiv)](https://arxiv.org/abs/2006.15037)\n",
    "- [IEEE JSTARS publication](https://ieeexplore.ieee.org/document/9399231)\n",
    "\n",
    "To cite the article:\n",
    "```\n",
    "E. Dalsasso, L. Denis and F. Tupin,\n",
    "\"SAR2SAR: A Semi-Supervised Despeckling Algorithm for SAR Images,\"\n",
    "in IEEE Journal of Selected Topics in Applied Earth Observations and Remote Sensing,\n",
    "vol. 14, pp. 4321-4329, 2021, doi: 10.1109/JSTARS.2021.3071864.\n",
    "\n",
    "```"
   ]
  },
  {
   "cell_type": "markdown",
   "metadata": {
    "colab_type": "text",
    "id": "_ugjl3KuDKwQ"
   },
   "source": [
    "## 0. Enable GPU and save copy on Drive to enable editing\n",
    "Runtime -> Change runtime type -> Hardware accelerator: GPU\n",
    "\n",
    "File -> Save a copy in Drive"
   ]
  },
  {
   "cell_type": "markdown",
   "metadata": {
    "colab_type": "text",
    "id": "rBSypL94C9L3"
   },
   "source": [
    "## 1. Download network weights and code"
   ]
  },
  {
   "cell_type": "code",
   "execution_count": null,
   "metadata": {
    "colab": {},
    "colab_type": "code",
    "id": "Fn6fXbssdjm4"
   },
   "outputs": [],
   "source": [
    "!wget https://gitlab.telecom-paris.fr/ring/SAR2SAR/-/raw/master/network_weights/SAR2SAR-test.zip\n",
    "!unzip /content/SAR2SAR-test.zip"
   ]
  },
  {
   "cell_type": "markdown",
   "metadata": {
    "colab_type": "text",
    "id": "Faq_Z-9TDboL"
   },
   "source": [
    "## 2. Install compatible version of tensorflow"
   ]
  },
  {
   "cell_type": "code",
   "execution_count": null,
   "metadata": {
    "colab": {},
    "colab_type": "code",
    "id": "fnC1KRKBiubW"
   },
   "outputs": [],
   "source": [
    "!pip uninstall -y tensorflow"
   ]
  },
  {
   "cell_type": "code",
   "execution_count": null,
   "metadata": {
    "pycharm": {
     "name": "#%%\n"
    }
   },
   "outputs": [],
   "source": [
    "!pip install tensorflow-gpu==1.13.1"
   ]
  },
  {
   "cell_type": "markdown",
   "metadata": {
    "colab_type": "text",
    "id": "vJfhq_QbGvkg"
   },
   "source": [
    "## 3. Test on real data\n",
    "Some **Sentinel-1** images in **amplitude** format can be found in the folder _/content/SAR2SAR-test/test_data/_\n",
    "\n",
    "\n",
    "To test on custom data, upload your single channel Sentinel-1 images in a numpy array with shape [ydim, xdim] in the folder _/content/SAR2SAR-test/test_data/_\n",
    "\n",
    "Results are stored in _/content/test_\n",
    "\n",
    "At each time a test is run, clean the _/content/test_ directory otherwise the results will be overwritten."
   ]
  },
  {
   "cell_type": "code",
   "execution_count": null,
   "metadata": {
    "colab": {},
    "colab_type": "code",
    "id": "tBownFrNEU5R"
   },
   "outputs": [],
   "source": [
    "!python /content/SAR2SAR-test/main.py "
   ]
  },
  {
   "cell_type": "markdown",
   "metadata": {
    "colab_type": "text",
    "id": "mZTikzYaR0zh"
   },
   "source": [
    "When image dimension exeeds 256, the U-Net is scanned over the image with a default stride of 64 pixels. To change it to a custom value, run the cell below (here it is set to 32, allowing more quality at the cost of a greater runtime)"
   ]
  },
  {
   "cell_type": "code",
   "execution_count": null,
   "metadata": {
    "colab": {},
    "colab_type": "code",
    "id": "JdSva30cNp75"
   },
   "outputs": [],
   "source": [
    "!python /content/SAR2SAR-test/main.py --stride_size=32"
   ]
  }
 ],
 "metadata": {
  "accelerator": "GPU",
  "colab": {
   "authorship_tag": "ABX9TyPfJJ9zqPNJBqr2yZu/Ozm7",
   "collapsed_sections": [],
   "include_colab_link": true,
   "name": "SAR2SAR-test.ipynb",
   "provenance": [],
   "toc_visible": true
  },
  "kernelspec": {
   "display_name": "Python 3",
   "language": "python",
   "name": "python3"
  },
  "language_info": {
   "codemirror_mode": {
    "name": "ipython",
    "version": 3
   },
   "file_extension": ".py",
   "mimetype": "text/x-python",
   "name": "python",
   "nbconvert_exporter": "python",
   "pygments_lexer": "ipython3",
   "version": "3.7.3"
  }
 },
 "nbformat": 4,
 "nbformat_minor": 1
}