{
 "nbformat": 4,
 "nbformat_minor": 0,
 "metadata": {
  "colab": {
   "name": "SAR2SAR-test.ipynb",
   "provenance": [],
   "collapsed_sections": [],
   "toc_visible": true,
   "authorship_tag": "ABX9TyPfJJ9zqPNJBqr2yZu/Ozm7",
   "include_colab_link": true
  },
  "kernelspec": {
   "name": "python3",
   "display_name": "Python 3"
  },
  "accelerator": "GPU"
 },
 "cells": [
  {
   "cell_type": "markdown",
   "metadata": {
    "id": "view-in-github",
    "colab_type": "text"
   },
   "source": [
    "**[Download the notebook](https://gitlab.telecom-paris.fr/ring/sar2sar/-/raw/master/SAR2SAR_Single_Look_test.ipynb?inline=false) and then import it under Google Colab**\n",
    "\n",
    "<a href=\"https://colab.research.google.com/\" target=\"_parent\"><img src=\"https://colab.research.google.com/assets/colab-badge.svg\" alt=\"Open In Colab\"/></a>"
   ]
  },
  {
   "cell_type": "markdown",
   "metadata": {
    "id": "a94OoNwSB4K8",
    "colab_type": "text"
   },
   "source": [
    "# SAR2SAR: A Semi-Supervised Despeckling Algorithm for SAR Images\n",
    "## Emanuele Dalsasso, Loïc Denis, Florence Tupin\n",
    "\n",
    "The code is made available under the **GNU General Public License v3.0**: Copyright 2020, Emanuele Dalsasso, Loïc Denis, Florence Tupin, of LTCI research lab - Télécom ParisTech, an Institut Mines Télécom school.\n",
    "All rights reserved.\n",
    "\n",
    "Please note that the training set is only composed of **Sentinel-1** SAR images, thus this testing code is specific to this data."
   ]
  },
  {
   "cell_type": "markdown",
   "source": [
    "## Resources\n",
    "- [Paper (ArXiv)](https://arxiv.org/abs/2006.15037)\n",
    "- [IEEE JSTARS publication](https://ieeexplore.ieee.org/document/9399231)\n",
    "\n",
    "To cite the article:\n",
    "```\n",
    "E. Dalsasso, L. Denis and F. Tupin,\n",
    "\"SAR2SAR: A Semi-Supervised Despeckling Algorithm for SAR Images,\"\n",
    "in IEEE Journal of Selected Topics in Applied Earth Observations and Remote Sensing,\n",
    "vol. 14, pp. 4321-4329, 2021, doi: 10.1109/JSTARS.2021.3071864.\n",
    "\n",
    "```"
   ],
   "metadata": {
    "collapsed": false,
    "pycharm": {
     "name": "#%% md\n"
    }
   }
  },
  {
   "cell_type": "markdown",
   "metadata": {
    "id": "_ugjl3KuDKwQ",
    "colab_type": "text"
   },
   "source": [
    "## 0. Enable GPU and save copy on Drive to enable editing\n",
    "Runtime -> Change runtime type -> Hardware accelerator: GPU\n",
    "\n",
    "File -> Save a copy in Drive"
   ]
  },
  {
   "cell_type": "markdown",
   "metadata": {
    "id": "rBSypL94C9L3",
    "colab_type": "text"
   },
   "source": [
    "## 1. Download network weights and code"
   ]
  },
  {
   "cell_type": "code",
   "metadata": {
    "id": "Fn6fXbssdjm4",
    "colab_type": "code",
    "colab": {}
   },
   "source": [
    "from google_drive_downloader import GoogleDriveDownloader as gdd\n",
    "\n",
    "gdd.download_file_from_google_drive(file_id='1nE6eaYKf5HNiHfAfwfbB2aB8LpGQCgd0',\n",
    "                                    dest_path='./SAR2SAR-test.zip',\n",
    "                                    unzip=True)"
   ],
   "execution_count": null,
   "outputs": []
  },
  {
   "cell_type": "markdown",
   "metadata": {
    "id": "Faq_Z-9TDboL",
    "colab_type": "text"
   },
   "source": [
    "## 2. Install compatible version of tensorflow"
   ]
  },
  {
   "cell_type": "code",
   "metadata": {
    "id": "fnC1KRKBiubW",
    "colab_type": "code",
    "colab": {}
   },
   "source": [
    "!pip uninstall -y tensorflow"
   ],
   "execution_count": null,
   "outputs": []
  },
  {
   "cell_type": "code",
   "execution_count": null,
   "outputs": [],
   "source": [
    "!pip install tensorflow-gpu==1.13.1"
   ],
   "metadata": {
    "collapsed": false,
    "pycharm": {
     "name": "#%%\n"
    }
   }
  },
  {
   "cell_type": "markdown",
   "metadata": {
    "id": "vJfhq_QbGvkg",
    "colab_type": "text"
   },
   "source": [
    "## 3. Test on real data\n",
    "Some **Sentinel-1** images in **amplitude** format can be found in the folder _/content/SAR2SAR-test/test_data/_\n",
    "\n",
    "\n",
    "To test on custom data, upload your single channel Sentinel-1 images in a numpy array with shape [ydim, xdim] in the folder _/content/SAR2SAR-test/test_data/_\n",
    "\n",
    "Results are stored in _/content/test_\n",
    "\n",
    "At each time a test is run, clean the _/content/test_ directory otherwise the results will be overwritten."
   ]
  },
  {
   "cell_type": "code",
   "metadata": {
    "id": "tBownFrNEU5R",
    "colab_type": "code",
    "colab": {}
   },
   "source": [
    "!python /content/SAR2SAR-test/main.py "
   ],
   "execution_count": null,
   "outputs": []
  },
  {
   "cell_type": "markdown",
   "metadata": {
    "id": "mZTikzYaR0zh",
    "colab_type": "text"
   },
   "source": [
    "When image dimension exeeds 256, the U-Net is scanned over the image with a default stride of 64 pixels. To change it to a custom value, run the cell below (here it is set to 32, allowing more quality at the cost of a greater runtime)"
   ]
  },
  {
   "cell_type": "code",
   "metadata": {
    "id": "JdSva30cNp75",
    "colab_type": "code",
    "colab": {}
   },
   "source": [
    "!python /content/SAR2SAR-test/main.py --stride_size=32"
   ],
   "execution_count": null,
   "outputs": []
  }
 ]
}